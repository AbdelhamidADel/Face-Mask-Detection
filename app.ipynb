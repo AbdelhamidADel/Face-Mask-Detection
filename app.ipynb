{
 "cells": [
  {
   "cell_type": "code",
   "execution_count": 1,
   "id": "d616e2c6",
   "metadata": {},
   "outputs": [],
   "source": [
    "import numpy as np\n",
    "import gradio as gr\n",
    "import cv2\n",
    "from scipy.spatial import distance\n",
    "from tensorflow.keras.models import load_model\n",
    "import matplotlib.pyplot as plt\n",
    "import warnings\n",
    "warnings.filterwarnings(\"ignore\")"
   ]
  },
  {
   "cell_type": "code",
   "execution_count": 2,
   "id": "7fd9173f",
   "metadata": {},
   "outputs": [],
   "source": [
    "model = load_model('masknet.h5')"
   ]
  },
  {
   "cell_type": "code",
   "execution_count": null,
   "id": "7cefa0de",
   "metadata": {},
   "outputs": [
    {
     "name": "stdout",
     "output_type": "stream",
     "text": [
      "Running on local URL:  http://127.0.0.1:7860\n",
      "Running on public URL: https://7ee49a5e7f033fd7.gradio.app\n",
      "\n",
      "This share link expires in 72 hours. For free permanent hosting and GPU upgrades (NEW!), check out Spaces: https://huggingface.co/spaces\n"
     ]
    },
    {
     "data": {
      "text/html": [
       "<div><iframe src=\"https://7ee49a5e7f033fd7.gradio.app\" width=\"100%\" height=\"500\" allow=\"autoplay; camera; microphone; clipboard-read; clipboard-write;\" frameborder=\"0\" allowfullscreen></iframe></div>"
      ],
      "text/plain": [
       "<IPython.core.display.HTML object>"
      ]
     },
     "metadata": {},
     "output_type": "display_data"
    },
    {
     "name": "stdout",
     "output_type": "stream",
     "text": [
      "1/1 [==============================] - 1s 507ms/step\n",
      "1/1 [==============================] - 0s 105ms/step\n"
     ]
    }
   ],
   "source": [
    "try:\n",
    "  def classify_image(inp):\n",
    "      mask_label = {0:'MASK',1:'NO MASK'}\n",
    "      dist_label = {0:(0,255,0),1:(255,0,0)}\n",
    "      face_model = cv2.CascadeClassifier('haarcascade_frontalface_default.xml')\n",
    "      MIN_DISTANCE = 130\n",
    "      img = inp\n",
    "      faces = face_model.detectMultiScale(img,scaleFactor=1.1, minNeighbors=4) #returns a list of (x,y,w,h) tuples\n",
    "\n",
    "      if len(faces)>0:\n",
    "          label = [0 for i in range(len(faces))]\n",
    "          for i in range(len(faces)-1):\n",
    "              for j in range(i+1, len(faces)):\n",
    "                  dist = distance.euclidean(faces[i][:2],faces[j][:2])\n",
    "                  if dist<MIN_DISTANCE:\n",
    "                      label[i] = 1\n",
    "                      label[j] = 1\n",
    "          new_img = cv2.cvtColor(img, cv2.COLOR_RGB2BGR) #colored output image\n",
    "          for i in range(len(faces)):\n",
    "              (x,y,w,h) = faces[i]\n",
    "              crop = new_img[y:y+h,x:x+w]\n",
    "              crop = cv2.resize(crop,(128,128))\n",
    "              crop = np.reshape(crop,[1,128,128,3])/255.0\n",
    "              mask_result = model.predict(crop)\n",
    "   \n",
    "          return f\"{mask_label[mask_result.argmax()]} : {round(max(mask_result[0])*100,1)}%\"\n",
    "      else:\n",
    "          return \"Try with Another Picture\"\n",
    "  image = gr.inputs.Image(shape=(224, 224))\n",
    "  label = gr.outputs.Label(num_top_classes=1)\n",
    "  info=\"Abstract:\\n The spread of Coronavirus started at the end of the year 2019 from the city of China, Wuhan. The continuous spread of the virus forced governments of various countries to put lockdown for several months. It has been observed that wearing a face mask can actually prevent the transmission of this deadly virus. In the future, we have to use a face mask as a preventive measure for any such viruses. However, manually it is very difficult to keep track of a person wearing a mask or not. And here technology plays a very crucial role. This project highlights the importance of deep learning especially object detection. We introduce a deep learning model that will detect faces and can predict whether the person is wearing a mask or not.\"\n",
    "  gr.Interface(fn=classify_image, inputs=image, outputs=label, capture_session=True,examples=[\"mo-salah.jpg\",\"cr7.jpg\",\"lana.jpg\"],title=\"Face Mask Detection\",article=info,thumbnail=\"cover.png\").launch(debug=True,share=True)\n",
    "except KeyboardInterrupt:\n",
    "      pass  # do nothing here"
   ]
  },
  {
   "cell_type": "code",
   "execution_count": null,
   "id": "a60574ef",
   "metadata": {},
   "outputs": [],
   "source": []
  }
 ],
 "metadata": {
  "kernelspec": {
   "display_name": "myenv",
   "language": "python",
   "name": "myenv"
  },
  "language_info": {
   "codemirror_mode": {
    "name": "ipython",
    "version": 3
   },
   "file_extension": ".py",
   "mimetype": "text/x-python",
   "name": "python",
   "nbconvert_exporter": "python",
   "pygments_lexer": "ipython3",
   "version": "3.10.4"
  }
 },
 "nbformat": 4,
 "nbformat_minor": 5
}
